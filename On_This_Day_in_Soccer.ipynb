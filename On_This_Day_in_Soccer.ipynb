{
  "cells": [
    {
      "cell_type": "markdown",
      "metadata": {
        "id": "view-in-github",
        "colab_type": "text"
      },
      "source": [
        "<a href=\"https://colab.research.google.com/github/alexanderkyoo/Tennis-Ranker-Project/blob/main/On_This_Day_in_Soccer.ipynb\" target=\"_parent\"><img src=\"https://colab.research.google.com/assets/colab-badge.svg\" alt=\"Open In Colab\"/></a>"
      ]
    },
    {
      "cell_type": "code",
      "execution_count": 1,
      "metadata": {
        "id": "X1EqxfTTLTgq"
      },
      "outputs": [],
      "source": [
        "import pandas as pd\n",
        "import random\n",
        "import requests\n",
        "from bs4 import BeautifulSoup"
      ]
    },
    {
      "cell_type": "code",
      "execution_count": 44,
      "metadata": {
        "colab": {
          "base_uri": "https://localhost:8080/"
        },
        "id": "TFLIPRzFLWgI",
        "outputId": "52851bf4-1cf2-46ec-9547-3929739d99c1"
      },
      "outputs": [
        {
          "name": "stdout",
          "output_type": "stream",
          "text": [
            "Please input a month in two digit form. ex. 08 = August: 12\n",
            "Please input a day in two digit form. ex. 05: 26\n"
          ]
        }
      ],
      "source": [
        "month = input(\"Please input a month in two digit form. ex. 08 = August: \")\n",
        "day = input(\"Please input a day in two digit form. ex. 05: \")\n",
        "while True:\n",
        "    year = random.randint(1888, 2022)\n",
        "    date = str(year) + '-' + month + '-' + str(int(day))\n",
        "    url = 'https://fbref.com/en/matches/' + str(date)\n",
        "    try:\n",
        "      df = pd.read_html(url)\n",
        "      break\n",
        "    except:\n",
        "      pass"
      ]
    },
    {
      "cell_type": "code",
      "execution_count": 45,
      "metadata": {
        "colab": {
          "base_uri": "https://localhost:8080/",
          "height": 35
        },
        "id": "JKQCNLpHboOo",
        "outputId": "c6e23981-5a62-4a8d-a632-9e61d02c9e43"
      },
      "outputs": [
        {
          "output_type": "execute_result",
          "data": {
            "text/plain": [
              "'December-26-1993'"
            ],
            "application/vnd.google.colaboratory.intrinsic+json": {
              "type": "string"
            }
          },
          "metadata": {},
          "execution_count": 45
        }
      ],
      "source": [
        "monthDict = {\t'01':'January',\n",
        "\t\t'02':'February',\n",
        "\t\t'03':'March',\n",
        "\t\t'04':'April',\n",
        "\t\t'05':'May',\n",
        "\t\t'06':'June',\n",
        "\t\t'07':'July',\n",
        "\t\t'08':'August',\n",
        "\t\t'09':'September',\n",
        "\t\t'10':'October',\n",
        "\t\t'11':'November',\n",
        "\t\t'12':'December'\t\t}\n",
        "letterDate = monthDict[month] + '-' + day + '-' + str(year)\n",
        "letterDate"
      ]
    },
    {
      "cell_type": "code",
      "execution_count": 46,
      "metadata": {
        "id": "bfbhsuWxXLiW"
      },
      "outputs": [],
      "source": [
        "response = requests.get(url)\n",
        "soup = BeautifulSoup(response.text, 'html.parser')\n",
        "linkList = []\n",
        "\n",
        "index = 0;\n",
        "\n",
        "for a in soup.find_all('a', href=True):\n",
        "  if(a['href'][0:12] == \"/en/matches/\" and letterDate in a['href']):\n",
        "    linkList.append(a['href'])\n",
        "    \n",
        "\n",
        "\n",
        "linkFinal = [*set(linkList)]\n",
        "\n",
        "\n",
        "url = 'https://fbref.com' + linkFinal[random.randint(0, len(linkFinal) - 1)]"
      ]
    },
    {
      "cell_type": "code",
      "execution_count": 47,
      "metadata": {
        "id": "nRE4af6xqPvs"
      },
      "outputs": [],
      "source": [
        "from prompt_toolkit.formatted_text.utils import fragment_list_to_text\n",
        "df = pd.read_html(url)\n",
        "\n",
        "response = requests.get(url)\n",
        "soup = BeautifulSoup(response.text, 'html.parser')\n",
        "\n",
        "score = []\n",
        "for el in soup.select(\"[class='score']\"):\n",
        "    score.append(str(el)[19])\n",
        "\n",
        "for title in soup.find_all('h1'):\n",
        "  matchName = str(title)[4:str(title).index('Match Report')]\n",
        "\n",
        "a_scorers = []\n",
        "b_scorers = []\n",
        "\n",
        "for team in soup.find_all('div', id='a'):\n",
        "  teamGoals = team.find_all()\n",
        "  for each in teamGoals:\n",
        "    goal = False\n",
        "    ownG = False\n",
        "    pen = False\n",
        "    for event in each.find_all('div'):\n",
        "      if(str(event)[12:-8] == \"event_icon goal\"):\n",
        "        goal = True\n",
        "      elif(str(event)[12:-8] == \"event_icon penalty_goal\"):\n",
        "        pen = True\n",
        "      elif(str(event)[12:-8] == \"event_icon own_goal\"):\n",
        "        ownG = True\n",
        "    for name in each.find_all('a'):\n",
        "      if(goal):\n",
        "        a_scorers.append(str(name)[str(name).index('>') + 1:-4])\n",
        "      if(pen):\n",
        "        a_scorers.append(str(name)[str(name).index('>') + 1:-4] + \"(P)\")\n",
        "      if(ownG):\n",
        "        a_scorers.append(str(name)[str(name).index('>') + 1:-4] + \"(OG)\")\n",
        "  if(len(a_scorers) >= int(score[0])): break\n",
        "\n",
        "for team in soup.find_all('div', id='b'):\n",
        "  teamGoals = team.find_all()\n",
        "  for each in teamGoals:\n",
        "    goal = False\n",
        "    ownG = Falsepen = False\n",
        "    for event in each.find_all('div'):\n",
        "      if(str(event)[12:-8] == \"event_icon goal\"):\n",
        "        goal = True\n",
        "      elif(str(event)[12:-8] == \"event_icon penalty_goal\"):\n",
        "        pen = True\n",
        "      elif(str(event)[12:-8] == \"event_icon own_goal\"):\n",
        "        ownG = True\n",
        "    for name in each.find_all('a'):\n",
        "      if(goal):\n",
        "        b_scorers.append(str(name)[str(name).index('>') + 1:-4])\n",
        "      if(pen):\n",
        "        b_scorers.append(str(name)[str(name).index('>') + 1:-4] + \"(P)\")\n",
        "      if(ownG):\n",
        "        b_scorers.append(str(name)[str(name).index('>') + 1:-4] + \"(OG)\")\n",
        "  if(len(b_scorers) >= int(score[1])): break"
      ]
    },
    {
      "cell_type": "code",
      "execution_count": 48,
      "metadata": {
        "colab": {
          "base_uri": "https://localhost:8080/"
        },
        "id": "IxDa8xGfxk-h",
        "outputId": "16c326b9-f4d0-4b14-b085-1af8edf130b8"
      },
      "outputs": [
        {
          "output_type": "stream",
          "name": "stdout",
          "text": [
            "Manchester United vs. Blackburn Rovers \n",
            "['1', '1']\n",
            "December-26-1993\n",
            "['Paul Ince']\n",
            "['Kevin Gallacher']\n"
          ]
        }
      ],
      "source": [
        "print(matchName)\n",
        "print(score)\n",
        "print(letterDate)\n",
        "if (not len(a_scorers) == int(score[0]) and not len(b_scorers) == int(score[1])):\n",
        "  print(\"Scorer data not available\")\n",
        "else:\n",
        "  print(a_scorers)\n",
        "  print(b_scorers)"
      ]
    }
  ],
  "metadata": {
    "colab": {
      "provenance": [],
      "authorship_tag": "ABX9TyOWio7rWm30mWOrTq80l3qs",
      "include_colab_link": true
    },
    "kernelspec": {
      "display_name": "Python 3",
      "name": "python3"
    },
    "language_info": {
      "name": "python"
    }
  },
  "nbformat": 4,
  "nbformat_minor": 0
}